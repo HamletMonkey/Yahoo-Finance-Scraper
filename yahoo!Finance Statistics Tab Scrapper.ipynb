{
 "cells": [
  {
   "cell_type": "code",
   "execution_count": 1,
   "id": "85a1ef32",
   "metadata": {},
   "outputs": [
    {
     "name": "stdout",
     "output_type": "stream",
     "text": [
      "Requirement already satisfied: requests in c:\\users\\henny\\appdata\\local\\programs\\python\\python39\\lib\\site-packages (2.26.0)\n",
      "Requirement already satisfied: charset-normalizer~=2.0.0 in c:\\users\\henny\\appdata\\local\\programs\\python\\python39\\lib\\site-packages (from requests) (2.0.2)\n",
      "Requirement already satisfied: idna<4,>=2.5 in c:\\users\\henny\\appdata\\local\\programs\\python\\python39\\lib\\site-packages (from requests) (3.2)\n",
      "Requirement already satisfied: urllib3<1.27,>=1.21.1 in c:\\users\\henny\\appdata\\local\\programs\\python\\python39\\lib\\site-packages (from requests) (1.26.6)\n",
      "Requirement already satisfied: certifi>=2017.4.17 in c:\\users\\henny\\appdata\\local\\programs\\python\\python39\\lib\\site-packages (from requests) (2021.5.30)\n",
      "Note: you may need to restart the kernel to use updated packages.\n"
     ]
    }
   ],
   "source": [
    "pip install requests"
   ]
  },
  {
   "cell_type": "code",
   "execution_count": 2,
   "id": "3a5488a7",
   "metadata": {},
   "outputs": [
    {
     "name": "stdout",
     "output_type": "stream",
     "text": [
      "Collecting bs4Note: you may need to restart the kernel to use updated packages.\n",
      "  Downloading bs4-0.0.1.tar.gz (1.1 kB)\n",
      "Collecting beautifulsoup4\n",
      "  Downloading beautifulsoup4-4.9.3-py3-none-any.whl (115 kB)\n",
      "Collecting soupsieve>1.2\n",
      "  Downloading soupsieve-2.2.1-py3-none-any.whl (33 kB)\n",
      "Using legacy 'setup.py install' for bs4, since package 'wheel' is not installed.\n",
      "Installing collected packages: soupsieve, beautifulsoup4, bs4\n",
      "    Running setup.py install for bs4: started\n",
      "    Running setup.py install for bs4: finished with status 'done'\n",
      "Successfully installed beautifulsoup4-4.9.3 bs4-0.0.1 soupsieve-2.2.1\n",
      "\n"
     ]
    }
   ],
   "source": [
    "pip install bs4"
   ]
  },
  {
   "cell_type": "code",
   "execution_count": 1,
   "id": "c7d54a91",
   "metadata": {},
   "outputs": [],
   "source": [
    "#importing libraries\n",
    "import re\n",
    "import json\n",
    "import csv\n",
    "import pandas as pd\n",
    "import requests\n",
    "from bs4 import BeautifulSoup"
   ]
  },
  {
   "cell_type": "code",
   "execution_count": 2,
   "id": "a02da510",
   "metadata": {},
   "outputs": [],
   "source": [
    "#url set up\n",
    "url_stats = 'https://finance.yahoo.com/quote/{}/key-statistics'\n",
    "\n",
    "#stock to scrap\n",
    "stock = 'MSFT'\n",
    "\n",
    "headers = {'User-Agent':'Mozilla/5.0 (Windows NT 10.0; Win64; x64) AppleWebKit/537.36 (KHTML, like Gecko) Chrome/91.0.4472.124 Safari/537.36'}"
   ]
  },
  {
   "cell_type": "markdown",
   "id": "8fde36ae",
   "metadata": {},
   "source": [
    "### Extracting & parsing html & json data"
   ]
  },
  {
   "cell_type": "code",
   "execution_count": 3,
   "id": "4d53b20b",
   "metadata": {},
   "outputs": [],
   "source": [
    "#request webpage, passing in the stock variable\n",
    "r = requests.get(url_stats.format(stock,stock),headers=headers)"
   ]
  },
  {
   "cell_type": "code",
   "execution_count": 4,
   "id": "eef933f7",
   "metadata": {},
   "outputs": [
    {
     "name": "stdout",
     "output_type": "stream",
     "text": [
      "200\n"
     ]
    }
   ],
   "source": [
    "print(r.status_code)"
   ]
  },
  {
   "cell_type": "code",
   "execution_count": 5,
   "id": "40fd9127",
   "metadata": {},
   "outputs": [],
   "source": [
    "#parse the html using BeautifulSoup\n",
    "soup = BeautifulSoup(r.text, 'html.parser')"
   ]
  },
  {
   "cell_type": "markdown",
   "id": "9526b9af",
   "metadata": {},
   "source": [
    "Quoting from Izzy Analytics for own reference:\n",
    "'If you were to look at the raw html, you would notice that there is a lot of javascript code and not a lot of html to work with. You may also notice that embedded in the code there are json formatted text strings. Fortunately for us, there is a javascript function, appropriately commented with \"--Data--\". This function is located inside of a generic \"script\" tag. However, we can use regular expressions with BeautifulSoup in order to identify the script tag with the function we're looking for.'"
   ]
  },
  {
   "cell_type": "code",
   "execution_count": 6,
   "id": "132e1e93",
   "metadata": {},
   "outputs": [],
   "source": [
    "pattern = re.compile(r'\\s--\\sData\\s--\\s')\n",
    "script_data = soup.find('script', text=pattern).contents[0]"
   ]
  },
  {
   "cell_type": "markdown",
   "id": "96717b22",
   "metadata": {},
   "source": [
    "'There's a lot of good json data here, but it's wrapped in a javascript function, as you can clearly see. However, if we can identify the starting and ending position of this json data, we can slice it and then parse it with the `json.loads` function.'"
   ]
  },
  {
   "cell_type": "code",
   "execution_count": 7,
   "id": "7fa3eb93",
   "metadata": {},
   "outputs": [],
   "source": [
    "# find the starting position of the json string\n",
    "start = script_data.find(\"context\")-2\n",
    "\n",
    "# slice the json string\n",
    "json_data = json.loads(script_data[start:-12])"
   ]
  },
  {
   "cell_type": "markdown",
   "id": "600c8dcd",
   "metadata": {},
   "source": [
    "### Exploring what is in the data by exploring the dictionary"
   ]
  },
  {
   "cell_type": "code",
   "execution_count": 8,
   "id": "df36d1ca",
   "metadata": {},
   "outputs": [
    {
     "data": {
      "text/plain": [
       "dict_keys(['dispatcher', 'options', 'plugins'])"
      ]
     },
     "execution_count": 8,
     "metadata": {},
     "output_type": "execute_result"
    }
   ],
   "source": [
    "json_data['context'].keys()"
   ]
  },
  {
   "cell_type": "code",
   "execution_count": 9,
   "id": "748cf1e2",
   "metadata": {},
   "outputs": [
    {
     "data": {
      "text/plain": [
       "dict_keys(['defaultKeyStatistics', 'financialsTemplate', 'price', 'financialData', 'quoteType', 'calendarEvents', 'summaryDetail', 'symbol', 'pageViews'])"
      ]
     },
     "execution_count": 9,
     "metadata": {},
     "output_type": "execute_result"
    }
   ],
   "source": [
    "#you can further explore these here:\n",
    "json_data['context']['dispatcher']['stores']['QuoteSummaryStore'].keys()"
   ]
  },
  {
   "cell_type": "code",
   "execution_count": 10,
   "id": "8466c07f",
   "metadata": {},
   "outputs": [],
   "source": [
    "#exploring the financial data\n",
    "stats_fin_data = json_data['context']['dispatcher']['stores']['QuoteSummaryStore']['financialData']"
   ]
  },
  {
   "cell_type": "code",
   "execution_count": 95,
   "id": "250df104",
   "metadata": {},
   "outputs": [
    {
     "data": {
      "text/plain": [
       "{'annualHoldingsTurnover': {},\n",
       " 'enterpriseToRevenue': {'raw': 13.027, 'fmt': '13.03'},\n",
       " 'beta3Year': {},\n",
       " 'profitMargins': {'raw': 0.35016, 'fmt': '35.02%'},\n",
       " 'enterpriseToEbitda': {'raw': 27.574, 'fmt': '27.57'},\n",
       " '52WeekChange': {'raw': 0.38520312, 'fmt': '38.52%'},\n",
       " 'morningStarRiskRating': {},\n",
       " 'forwardEps': {'raw': 8.37, 'fmt': '8.37'},\n",
       " 'revenueQuarterlyGrowth': {},\n",
       " 'sharesOutstanding': {'raw': 7531570176,\n",
       "  'fmt': '7.53B',\n",
       "  'longFmt': '7,531,570,176'},\n",
       " 'fundInceptionDate': {},\n",
       " 'annualReportExpenseRatio': {},\n",
       " 'totalAssets': {},\n",
       " 'bookValue': {'raw': 17.853, 'fmt': '17.85'},\n",
       " 'sharesShort': {'raw': 50822833, 'fmt': '50.82M', 'longFmt': '50,822,833'},\n",
       " 'sharesPercentSharesOut': {'raw': 0.0067000003, 'fmt': '0.67%'},\n",
       " 'fundFamily': None,\n",
       " 'lastFiscalYearEnd': {'raw': 1593475200, 'fmt': '2020-06-30'},\n",
       " 'heldPercentInstitutions': {'raw': 0.72033995, 'fmt': '72.03%'},\n",
       " 'netIncomeToCommon': {'raw': 56014999552,\n",
       "  'fmt': '56.01B',\n",
       "  'longFmt': '56,014,999,552'},\n",
       " 'trailingEps': {'raw': 7.338, 'fmt': '7.34'},\n",
       " 'lastDividendValue': {'raw': 0.56, 'fmt': '0.56'},\n",
       " 'SandP52WeekChange': {'raw': 0.35206044, 'fmt': '35.21%'},\n",
       " 'priceToBook': {'raw': 15.741331, 'fmt': '15.74'},\n",
       " 'heldPercentInsiders': {'raw': 0.00074, 'fmt': '0.07%'},\n",
       " 'nextFiscalYearEnd': {'raw': 1656547200, 'fmt': '2022-06-30'},\n",
       " 'yield': {},\n",
       " 'mostRecentQuarter': {'raw': 1617148800, 'fmt': '2021-03-31'},\n",
       " 'shortRatio': {'raw': 2.2, 'fmt': '2.2'},\n",
       " 'sharesShortPreviousMonthDate': {'raw': 1622160000, 'fmt': '2021-05-28'},\n",
       " 'floatShares': {'raw': 7523741713,\n",
       "  'fmt': '7.52B',\n",
       "  'longFmt': '7,523,741,713'},\n",
       " 'beta': {'raw': 0.787812, 'fmt': '0.79'},\n",
       " 'enterpriseValue': {'raw': 2083992109056,\n",
       "  'fmt': '2.08T',\n",
       "  'longFmt': '2,083,992,109,056'},\n",
       " 'priceHint': {'raw': 2, 'fmt': '2', 'longFmt': '2'},\n",
       " 'threeYearAverageReturn': {},\n",
       " 'lastSplitDate': {'raw': 1045526400, 'fmt': '2003-02-18'},\n",
       " 'lastSplitFactor': '2:1',\n",
       " 'legalType': None,\n",
       " 'lastDividendDate': {'raw': 1621382400, 'fmt': '2021-05-19'},\n",
       " 'morningStarOverallRating': {},\n",
       " 'earningsQuarterlyGrowth': {'raw': 0.438, 'fmt': '43.80%'},\n",
       " 'priceToSalesTrailing12Months': {},\n",
       " 'dateShortInterest': {'raw': 1625011200, 'fmt': '2021-06-30'},\n",
       " 'pegRatio': {'raw': 2.07, 'fmt': '2.07'},\n",
       " 'ytdReturn': {},\n",
       " 'forwardPE': {'raw': 33.575867, 'fmt': '33.58'},\n",
       " 'maxAge': 1,\n",
       " 'lastCapGain': {},\n",
       " 'shortPercentOfFloat': {'raw': 0.0068, 'fmt': '0.68%'},\n",
       " 'sharesShortPriorMonth': {'raw': 46469032,\n",
       "  'fmt': '46.47M',\n",
       "  'longFmt': '46,469,032'},\n",
       " 'impliedSharesOutstanding': {},\n",
       " 'category': None,\n",
       " 'fiveYearAverageReturn': {}}"
      ]
     },
     "execution_count": 95,
     "metadata": {},
     "output_type": "execute_result"
    }
   ],
   "source": [
    "#exploring...\n",
    "json_data['context']['dispatcher']['stores']['QuoteSummaryStore']['defaultKeyStatistics']"
   ]
  },
  {
   "cell_type": "code",
   "execution_count": 13,
   "id": "1cef265a",
   "metadata": {},
   "outputs": [
    {
     "name": "stdout",
     "output_type": "stream",
     "text": [
      "{'ebitdaMargins': {'raw': 0.47245, 'fmt': '47.24%'}, 'profitMargins': {'raw': 0.35016, 'fmt': '35.02%'}, 'grossMargins': {'raw': 0.68381, 'fmt': '68.38%'}, 'operatingCashflow': {'raw': 72703000576, 'fmt': '72.7B', 'longFmt': '72,703,000,576'}, 'revenueGrowth': {'raw': 0.191, 'fmt': '19.10%'}, 'operatingMargins': {'raw': 0.40150002, 'fmt': '40.15%'}, 'ebitda': {'raw': 75577999360, 'fmt': '75.58B', 'longFmt': '75,577,999,360'}, 'targetLowPrice': {'raw': 256.7, 'fmt': '256.70'}, 'recommendationKey': 'buy', 'grossProfits': {'raw': 96937000000, 'fmt': '96.94B', 'longFmt': '96,937,000,000'}, 'freeCashflow': {'raw': 37776875520, 'fmt': '37.78B', 'longFmt': '37,776,875,520'}, 'targetMedianPrice': {'raw': 300, 'fmt': '300.00'}, 'currentPrice': {'raw': 286.14, 'fmt': '286.14'}, 'earningsGrowth': {'raw': 0.45, 'fmt': '45.00%'}, 'currentRatio': {'raw': 2.294, 'fmt': '2.29'}, 'returnOnAssets': {'raw': 0.13508001, 'fmt': '13.51%'}, 'numberOfAnalystOpinions': {'raw': 33, 'fmt': '33', 'longFmt': '33'}, 'targetMeanPrice': {'raw': 298.92, 'fmt': '298.92'}, 'debtToEquity': {'raw': 60.414, 'fmt': '60.41'}, 'returnOnEquity': {'raw': 0.44991, 'fmt': '44.99%'}, 'targetHighPrice': {'raw': 340, 'fmt': '340.00'}, 'totalCash': {'raw': 125013000192, 'fmt': '125.01B', 'longFmt': '125,013,000,192'}, 'totalDebt': {'raw': 81260003328, 'fmt': '81.26B', 'longFmt': '81,260,003,328'}, 'totalRevenue': {'raw': 159969001472, 'fmt': '159.97B', 'longFmt': '159,969,001,472'}, 'totalCashPerShare': {'raw': 16.599, 'fmt': '16.6'}, 'financialCurrency': 'USD', 'maxAge': 86400, 'revenuePerShare': {'raw': 21.156, 'fmt': '21.16'}, 'quickRatio': {'raw': 2.096, 'fmt': '2.10'}, 'recommendationMean': {'raw': 1.6, 'fmt': '1.60'}}\n"
     ]
    }
   ],
   "source": [
    "print(stats_fin_data)"
   ]
  },
  {
   "cell_type": "code",
   "execution_count": 14,
   "id": "9b1dc316",
   "metadata": {},
   "outputs": [
    {
     "data": {
      "text/plain": [
       "{'raw': 0.47245, 'fmt': '47.24%'}"
      ]
     },
     "execution_count": 14,
     "metadata": {},
     "output_type": "execute_result"
    }
   ],
   "source": [
    "#different number format available: raw, formatted, long formatted\n",
    "stats_fin_data['ebitdaMargins']"
   ]
  },
  {
   "cell_type": "code",
   "execution_count": 15,
   "id": "f3750399",
   "metadata": {},
   "outputs": [
    {
     "name": "stdout",
     "output_type": "stream",
     "text": [
      "raw : 0.47245\n",
      "fmt : 47.24%\n",
      "raw : 0.35016\n",
      "fmt : 35.02%\n",
      "raw : 0.68381\n",
      "fmt : 68.38%\n",
      "raw : 72703000576\n",
      "fmt : 72.7B\n",
      "longFmt : 72,703,000,576\n",
      "raw : 0.191\n",
      "fmt : 19.10%\n",
      "raw : 0.40150002\n",
      "fmt : 40.15%\n",
      "raw : 75577999360\n",
      "fmt : 75.58B\n",
      "longFmt : 75,577,999,360\n",
      "raw : 256.7\n",
      "fmt : 256.70\n",
      "recommendationKey : buy\n",
      "raw : 96937000000\n",
      "fmt : 96.94B\n",
      "longFmt : 96,937,000,000\n",
      "raw : 37776875520\n",
      "fmt : 37.78B\n",
      "longFmt : 37,776,875,520\n",
      "raw : 300\n",
      "fmt : 300.00\n",
      "raw : 286.14\n",
      "fmt : 286.14\n",
      "raw : 0.45\n",
      "fmt : 45.00%\n",
      "raw : 2.294\n",
      "fmt : 2.29\n",
      "raw : 0.13508001\n",
      "fmt : 13.51%\n",
      "raw : 33\n",
      "fmt : 33\n",
      "longFmt : 33\n",
      "raw : 298.92\n",
      "fmt : 298.92\n",
      "raw : 60.414\n",
      "fmt : 60.41\n",
      "raw : 0.44991\n",
      "fmt : 44.99%\n",
      "raw : 340\n",
      "fmt : 340.00\n",
      "raw : 125013000192\n",
      "fmt : 125.01B\n",
      "longFmt : 125,013,000,192\n",
      "raw : 81260003328\n",
      "fmt : 81.26B\n",
      "longFmt : 81,260,003,328\n",
      "raw : 159969001472\n",
      "fmt : 159.97B\n",
      "longFmt : 159,969,001,472\n",
      "raw : 16.599\n",
      "fmt : 16.6\n",
      "financialCurrency : USD\n",
      "maxAge : 86400\n",
      "raw : 21.156\n",
      "fmt : 21.16\n",
      "raw : 2.096\n",
      "fmt : 2.10\n",
      "raw : 1.6\n",
      "fmt : 1.60\n"
     ]
    }
   ],
   "source": [
    "#tring to loop through nested dictionary, stats_fin_data -- not using this\n",
    "def get_all_values(nested_dictionary):\n",
    "    for key,value in nested_dictionary.items():\n",
    "        if type(value) is dict:\n",
    "            get_all_values(value)\n",
    "        else:\n",
    "            print(key, ':', value)\n",
    "            \n",
    "get_all_values(stats_fin_data)"
   ]
  },
  {
   "cell_type": "code",
   "execution_count": 16,
   "id": "14a9d094",
   "metadata": {},
   "outputs": [],
   "source": [
    "def parse_dict(f, lkey=''):\n",
    "    data = {}\n",
    "    for rkey,val in f.items():\n",
    "        key = lkey+rkey\n",
    "        if isinstance(val, dict):\n",
    "            data.update(parse_dict(val, key+'_'))\n",
    "        else:\n",
    "            data[key] = val\n",
    "    return data\n",
    "\n",
    "stats_findatas = parse_dict(stats_fin_data,'')"
   ]
  },
  {
   "cell_type": "code",
   "execution_count": 17,
   "id": "a895fe39",
   "metadata": {},
   "outputs": [
    {
     "data": {
      "text/plain": [
       "{'ebitdaMargins_raw': 0.47245,\n",
       " 'ebitdaMargins_fmt': '47.24%',\n",
       " 'profitMargins_raw': 0.35016,\n",
       " 'profitMargins_fmt': '35.02%',\n",
       " 'grossMargins_raw': 0.68381,\n",
       " 'grossMargins_fmt': '68.38%',\n",
       " 'operatingCashflow_raw': 72703000576,\n",
       " 'operatingCashflow_fmt': '72.7B',\n",
       " 'operatingCashflow_longFmt': '72,703,000,576',\n",
       " 'revenueGrowth_raw': 0.191,\n",
       " 'revenueGrowth_fmt': '19.10%',\n",
       " 'operatingMargins_raw': 0.40150002,\n",
       " 'operatingMargins_fmt': '40.15%',\n",
       " 'ebitda_raw': 75577999360,\n",
       " 'ebitda_fmt': '75.58B',\n",
       " 'ebitda_longFmt': '75,577,999,360',\n",
       " 'targetLowPrice_raw': 256.7,\n",
       " 'targetLowPrice_fmt': '256.70',\n",
       " 'recommendationKey': 'buy',\n",
       " 'grossProfits_raw': 96937000000,\n",
       " 'grossProfits_fmt': '96.94B',\n",
       " 'grossProfits_longFmt': '96,937,000,000',\n",
       " 'freeCashflow_raw': 37776875520,\n",
       " 'freeCashflow_fmt': '37.78B',\n",
       " 'freeCashflow_longFmt': '37,776,875,520',\n",
       " 'targetMedianPrice_raw': 300,\n",
       " 'targetMedianPrice_fmt': '300.00',\n",
       " 'currentPrice_raw': 286.14,\n",
       " 'currentPrice_fmt': '286.14',\n",
       " 'earningsGrowth_raw': 0.45,\n",
       " 'earningsGrowth_fmt': '45.00%',\n",
       " 'currentRatio_raw': 2.294,\n",
       " 'currentRatio_fmt': '2.29',\n",
       " 'returnOnAssets_raw': 0.13508001,\n",
       " 'returnOnAssets_fmt': '13.51%',\n",
       " 'numberOfAnalystOpinions_raw': 33,\n",
       " 'numberOfAnalystOpinions_fmt': '33',\n",
       " 'numberOfAnalystOpinions_longFmt': '33',\n",
       " 'targetMeanPrice_raw': 298.92,\n",
       " 'targetMeanPrice_fmt': '298.92',\n",
       " 'debtToEquity_raw': 60.414,\n",
       " 'debtToEquity_fmt': '60.41',\n",
       " 'returnOnEquity_raw': 0.44991,\n",
       " 'returnOnEquity_fmt': '44.99%',\n",
       " 'targetHighPrice_raw': 340,\n",
       " 'targetHighPrice_fmt': '340.00',\n",
       " 'totalCash_raw': 125013000192,\n",
       " 'totalCash_fmt': '125.01B',\n",
       " 'totalCash_longFmt': '125,013,000,192',\n",
       " 'totalDebt_raw': 81260003328,\n",
       " 'totalDebt_fmt': '81.26B',\n",
       " 'totalDebt_longFmt': '81,260,003,328',\n",
       " 'totalRevenue_raw': 159969001472,\n",
       " 'totalRevenue_fmt': '159.97B',\n",
       " 'totalRevenue_longFmt': '159,969,001,472',\n",
       " 'totalCashPerShare_raw': 16.599,\n",
       " 'totalCashPerShare_fmt': '16.6',\n",
       " 'financialCurrency': 'USD',\n",
       " 'maxAge': 86400,\n",
       " 'revenuePerShare_raw': 21.156,\n",
       " 'revenuePerShare_fmt': '21.16',\n",
       " 'quickRatio_raw': 2.096,\n",
       " 'quickRatio_fmt': '2.10',\n",
       " 'recommendationMean_raw': 1.6,\n",
       " 'recommendationMean_fmt': '1.60'}"
      ]
     },
     "execution_count": 17,
     "metadata": {},
     "output_type": "execute_result"
    }
   ],
   "source": [
    "stats_findatas"
   ]
  },
  {
   "cell_type": "code",
   "execution_count": 94,
   "id": "ada3646e",
   "metadata": {},
   "outputs": [
    {
     "data": {
      "text/plain": [
       "dict"
      ]
     },
     "execution_count": 94,
     "metadata": {},
     "output_type": "execute_result"
    }
   ],
   "source": [
    "type(stats_findatas)"
   ]
  },
  {
   "cell_type": "code",
   "execution_count": 22,
   "id": "57c52a9f",
   "metadata": {},
   "outputs": [],
   "source": [
    "#converting dict to df\n",
    "df_stats_findatas = pd.DataFrame(list(stats_findatas.items()),columns = ['financial_data','value'])"
   ]
  },
  {
   "cell_type": "code",
   "execution_count": 23,
   "id": "7b150f9a",
   "metadata": {},
   "outputs": [
    {
     "data": {
      "text/html": [
       "<div>\n",
       "<style scoped>\n",
       "    .dataframe tbody tr th:only-of-type {\n",
       "        vertical-align: middle;\n",
       "    }\n",
       "\n",
       "    .dataframe tbody tr th {\n",
       "        vertical-align: top;\n",
       "    }\n",
       "\n",
       "    .dataframe thead th {\n",
       "        text-align: right;\n",
       "    }\n",
       "</style>\n",
       "<table border=\"1\" class=\"dataframe\">\n",
       "  <thead>\n",
       "    <tr style=\"text-align: right;\">\n",
       "      <th></th>\n",
       "      <th>financial_data</th>\n",
       "      <th>value</th>\n",
       "    </tr>\n",
       "  </thead>\n",
       "  <tbody>\n",
       "    <tr>\n",
       "      <th>0</th>\n",
       "      <td>ebitdaMargins_raw</td>\n",
       "      <td>0.47245</td>\n",
       "    </tr>\n",
       "    <tr>\n",
       "      <th>1</th>\n",
       "      <td>ebitdaMargins_fmt</td>\n",
       "      <td>47.24%</td>\n",
       "    </tr>\n",
       "    <tr>\n",
       "      <th>2</th>\n",
       "      <td>profitMargins_raw</td>\n",
       "      <td>0.35016</td>\n",
       "    </tr>\n",
       "    <tr>\n",
       "      <th>3</th>\n",
       "      <td>profitMargins_fmt</td>\n",
       "      <td>35.02%</td>\n",
       "    </tr>\n",
       "    <tr>\n",
       "      <th>4</th>\n",
       "      <td>grossMargins_raw</td>\n",
       "      <td>0.68381</td>\n",
       "    </tr>\n",
       "    <tr>\n",
       "      <th>...</th>\n",
       "      <td>...</td>\n",
       "      <td>...</td>\n",
       "    </tr>\n",
       "    <tr>\n",
       "      <th>60</th>\n",
       "      <td>revenuePerShare_fmt</td>\n",
       "      <td>21.16</td>\n",
       "    </tr>\n",
       "    <tr>\n",
       "      <th>61</th>\n",
       "      <td>quickRatio_raw</td>\n",
       "      <td>2.096</td>\n",
       "    </tr>\n",
       "    <tr>\n",
       "      <th>62</th>\n",
       "      <td>quickRatio_fmt</td>\n",
       "      <td>2.10</td>\n",
       "    </tr>\n",
       "    <tr>\n",
       "      <th>63</th>\n",
       "      <td>recommendationMean_raw</td>\n",
       "      <td>1.6</td>\n",
       "    </tr>\n",
       "    <tr>\n",
       "      <th>64</th>\n",
       "      <td>recommendationMean_fmt</td>\n",
       "      <td>1.60</td>\n",
       "    </tr>\n",
       "  </tbody>\n",
       "</table>\n",
       "<p>65 rows × 2 columns</p>\n",
       "</div>"
      ],
      "text/plain": [
       "            financial_data    value\n",
       "0        ebitdaMargins_raw  0.47245\n",
       "1        ebitdaMargins_fmt   47.24%\n",
       "2        profitMargins_raw  0.35016\n",
       "3        profitMargins_fmt   35.02%\n",
       "4         grossMargins_raw  0.68381\n",
       "..                     ...      ...\n",
       "60     revenuePerShare_fmt    21.16\n",
       "61          quickRatio_raw    2.096\n",
       "62          quickRatio_fmt     2.10\n",
       "63  recommendationMean_raw      1.6\n",
       "64  recommendationMean_fmt     1.60\n",
       "\n",
       "[65 rows x 2 columns]"
      ]
     },
     "execution_count": 23,
     "metadata": {},
     "output_type": "execute_result"
    }
   ],
   "source": [
    "df_stats_findatas"
   ]
  },
  {
   "cell_type": "code",
   "execution_count": 104,
   "id": "b47e0d06",
   "metadata": {},
   "outputs": [
    {
     "data": {
      "text/html": [
       "<div>\n",
       "<style scoped>\n",
       "    .dataframe tbody tr th:only-of-type {\n",
       "        vertical-align: middle;\n",
       "    }\n",
       "\n",
       "    .dataframe tbody tr th {\n",
       "        vertical-align: top;\n",
       "    }\n",
       "\n",
       "    .dataframe thead th {\n",
       "        text-align: right;\n",
       "    }\n",
       "</style>\n",
       "<table border=\"1\" class=\"dataframe\">\n",
       "  <thead>\n",
       "    <tr style=\"text-align: right;\">\n",
       "      <th></th>\n",
       "      <th>financial_data</th>\n",
       "      <th>value</th>\n",
       "    </tr>\n",
       "  </thead>\n",
       "  <tbody>\n",
       "    <tr>\n",
       "      <th>1</th>\n",
       "      <td>ebitdaMargins_fmt</td>\n",
       "      <td>47.24%</td>\n",
       "    </tr>\n",
       "    <tr>\n",
       "      <th>3</th>\n",
       "      <td>profitMargins_fmt</td>\n",
       "      <td>35.02%</td>\n",
       "    </tr>\n",
       "    <tr>\n",
       "      <th>5</th>\n",
       "      <td>grossMargins_fmt</td>\n",
       "      <td>68.38%</td>\n",
       "    </tr>\n",
       "    <tr>\n",
       "      <th>7</th>\n",
       "      <td>operatingCashflow_fmt</td>\n",
       "      <td>72.7B</td>\n",
       "    </tr>\n",
       "    <tr>\n",
       "      <th>10</th>\n",
       "      <td>revenueGrowth_fmt</td>\n",
       "      <td>19.10%</td>\n",
       "    </tr>\n",
       "    <tr>\n",
       "      <th>12</th>\n",
       "      <td>operatingMargins_fmt</td>\n",
       "      <td>40.15%</td>\n",
       "    </tr>\n",
       "    <tr>\n",
       "      <th>14</th>\n",
       "      <td>ebitda_fmt</td>\n",
       "      <td>75.58B</td>\n",
       "    </tr>\n",
       "    <tr>\n",
       "      <th>17</th>\n",
       "      <td>targetLowPrice_fmt</td>\n",
       "      <td>256.70</td>\n",
       "    </tr>\n",
       "    <tr>\n",
       "      <th>20</th>\n",
       "      <td>grossProfits_fmt</td>\n",
       "      <td>96.94B</td>\n",
       "    </tr>\n",
       "    <tr>\n",
       "      <th>23</th>\n",
       "      <td>freeCashflow_fmt</td>\n",
       "      <td>37.78B</td>\n",
       "    </tr>\n",
       "    <tr>\n",
       "      <th>26</th>\n",
       "      <td>targetMedianPrice_fmt</td>\n",
       "      <td>300.00</td>\n",
       "    </tr>\n",
       "    <tr>\n",
       "      <th>28</th>\n",
       "      <td>currentPrice_fmt</td>\n",
       "      <td>281.03</td>\n",
       "    </tr>\n",
       "    <tr>\n",
       "      <th>30</th>\n",
       "      <td>earningsGrowth_fmt</td>\n",
       "      <td>45.00%</td>\n",
       "    </tr>\n",
       "    <tr>\n",
       "      <th>32</th>\n",
       "      <td>currentRatio_fmt</td>\n",
       "      <td>2.29</td>\n",
       "    </tr>\n",
       "    <tr>\n",
       "      <th>34</th>\n",
       "      <td>returnOnAssets_fmt</td>\n",
       "      <td>13.51%</td>\n",
       "    </tr>\n",
       "    <tr>\n",
       "      <th>36</th>\n",
       "      <td>numberOfAnalystOpinions_fmt</td>\n",
       "      <td>33</td>\n",
       "    </tr>\n",
       "    <tr>\n",
       "      <th>39</th>\n",
       "      <td>targetMeanPrice_fmt</td>\n",
       "      <td>298.92</td>\n",
       "    </tr>\n",
       "    <tr>\n",
       "      <th>41</th>\n",
       "      <td>debtToEquity_fmt</td>\n",
       "      <td>60.41</td>\n",
       "    </tr>\n",
       "    <tr>\n",
       "      <th>43</th>\n",
       "      <td>returnOnEquity_fmt</td>\n",
       "      <td>44.99%</td>\n",
       "    </tr>\n",
       "    <tr>\n",
       "      <th>45</th>\n",
       "      <td>targetHighPrice_fmt</td>\n",
       "      <td>340.00</td>\n",
       "    </tr>\n",
       "    <tr>\n",
       "      <th>47</th>\n",
       "      <td>totalCash_fmt</td>\n",
       "      <td>125.01B</td>\n",
       "    </tr>\n",
       "    <tr>\n",
       "      <th>50</th>\n",
       "      <td>totalDebt_fmt</td>\n",
       "      <td>81.26B</td>\n",
       "    </tr>\n",
       "    <tr>\n",
       "      <th>53</th>\n",
       "      <td>totalRevenue_fmt</td>\n",
       "      <td>159.97B</td>\n",
       "    </tr>\n",
       "    <tr>\n",
       "      <th>56</th>\n",
       "      <td>totalCashPerShare_fmt</td>\n",
       "      <td>16.6</td>\n",
       "    </tr>\n",
       "    <tr>\n",
       "      <th>60</th>\n",
       "      <td>revenuePerShare_fmt</td>\n",
       "      <td>21.16</td>\n",
       "    </tr>\n",
       "    <tr>\n",
       "      <th>62</th>\n",
       "      <td>quickRatio_fmt</td>\n",
       "      <td>2.10</td>\n",
       "    </tr>\n",
       "    <tr>\n",
       "      <th>64</th>\n",
       "      <td>recommendationMean_fmt</td>\n",
       "      <td>1.60</td>\n",
       "    </tr>\n",
       "  </tbody>\n",
       "</table>\n",
       "</div>"
      ],
      "text/plain": [
       "                 financial_data    value\n",
       "1             ebitdaMargins_fmt   47.24%\n",
       "3             profitMargins_fmt   35.02%\n",
       "5              grossMargins_fmt   68.38%\n",
       "7         operatingCashflow_fmt    72.7B\n",
       "10            revenueGrowth_fmt   19.10%\n",
       "12         operatingMargins_fmt   40.15%\n",
       "14                   ebitda_fmt   75.58B\n",
       "17           targetLowPrice_fmt   256.70\n",
       "20             grossProfits_fmt   96.94B\n",
       "23             freeCashflow_fmt   37.78B\n",
       "26        targetMedianPrice_fmt   300.00\n",
       "28             currentPrice_fmt   281.03\n",
       "30           earningsGrowth_fmt   45.00%\n",
       "32             currentRatio_fmt     2.29\n",
       "34           returnOnAssets_fmt   13.51%\n",
       "36  numberOfAnalystOpinions_fmt       33\n",
       "39          targetMeanPrice_fmt   298.92\n",
       "41             debtToEquity_fmt    60.41\n",
       "43           returnOnEquity_fmt   44.99%\n",
       "45          targetHighPrice_fmt   340.00\n",
       "47                totalCash_fmt  125.01B\n",
       "50                totalDebt_fmt   81.26B\n",
       "53             totalRevenue_fmt  159.97B\n",
       "56        totalCashPerShare_fmt     16.6\n",
       "60          revenuePerShare_fmt    21.16\n",
       "62               quickRatio_fmt     2.10\n",
       "64       recommendationMean_fmt     1.60"
      ]
     },
     "execution_count": 104,
     "metadata": {},
     "output_type": "execute_result"
    }
   ],
   "source": [
    "df_stats_findatas[df_stats_findatas['financial_data'].str.contains(\"_fmt\")]"
   ]
  },
  {
   "cell_type": "code",
   "execution_count": 24,
   "id": "f5ea7a1b",
   "metadata": {},
   "outputs": [],
   "source": []
  },
  {
   "cell_type": "code",
   "execution_count": null,
   "id": "a32ea9c4",
   "metadata": {},
   "outputs": [],
   "source": []
  }
 ],
 "metadata": {
  "kernelspec": {
   "display_name": "Python 3",
   "language": "python",
   "name": "python3"
  },
  "language_info": {
   "codemirror_mode": {
    "name": "ipython",
    "version": 3
   },
   "file_extension": ".py",
   "mimetype": "text/x-python",
   "name": "python",
   "nbconvert_exporter": "python",
   "pygments_lexer": "ipython3",
   "version": "3.8.8"
  }
 },
 "nbformat": 4,
 "nbformat_minor": 5
}
